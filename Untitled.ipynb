{
 "cells": [
  {
   "cell_type": "code",
   "execution_count": 1,
   "metadata": {},
   "outputs": [],
   "source": [
    "import csv\n",
    "import re"
   ]
  },
  {
   "cell_type": "code",
   "execution_count": 129,
   "metadata": {},
   "outputs": [
    {
     "name": "stdout",
     "output_type": "stream",
     "text": [
      "['C', 'M', 'R']\n",
      "CMR\n",
      "['C', 'M']\n",
      "CM\n"
     ]
    },
    {
     "data": {
      "text/plain": [
       "['CMR', 'CM']"
      ]
     },
     "execution_count": 129,
     "metadata": {},
     "output_type": "execute_result"
    }
   ],
   "source": [
    "user_string= \" he is good C M R .He is a good C M \"\n",
    "res=re.findall(r'(?:(?<=\\s|\\s)[A-Z]\\s)+',user_string)\n",
    "res\n",
    "l=[]\n",
    "for i in res:\n",
    "    print(i.split())\n",
    "    print(\"\".join(i.split()))\n",
    "    l.append(\"\".join(i.split()))\n",
    "l\n",
    "\n",
    "res = re.findall(r'(?:(?<=\\s|\\s)[A-Z]\\s)+', test_string) \n"
   ]
  },
  {
   "cell_type": "code",
   "execution_count": 5,
   "metadata": {},
   "outputs": [
    {
     "data": {
      "text/plain": [
       "3"
      ]
     },
     "execution_count": 5,
     "metadata": {},
     "output_type": "execute_result"
    }
   ],
   "source": [
    "res = re.findall(r'(?:(?<=\\s|\\s)[A-Z]\\s)+', user_string) \n",
    "len(res)"
   ]
  },
  {
   "cell_type": "code",
   "execution_count": 23,
   "metadata": {},
   "outputs": [
    {
     "data": {
      "text/plain": [
       "['A ', 'C M ', 'U S S ']"
      ]
     },
     "execution_count": 23,
     "metadata": {},
     "output_type": "execute_result"
    }
   ],
   "source": [
    "user_string= \"i have two dollars please give it to one in need triple A . Praful Naik is a good C M .U S S  disintegrated into parts end\"\n",
    "res = re.findall(r'(?:(?<=\\s|\\.)[A-Z]\\s)+',user_string) \n",
    "res"
   ]
  },
  {
   "cell_type": "code",
   "execution_count": 24,
   "metadata": {},
   "outputs": [],
   "source": [
    "user_string= \"i have two dollars please give it to one in need triple A . Praful Naik is a good C M .U S S  disintegrated into parts end\"\n",
    "def text_compress(user_string):\n",
    "    res = re.findall(r'(?:(?<=\\s|\\.)[A-Z]\\s)+',user_string) \n",
    "    l=[]\n",
    "    print(res)\n",
    "    for i in res:\n",
    "        i=i.strip()\n",
    "        l.append(\"\".join(i.split()))\n",
    "    print(l)\n",
    "    for i in range(len(res)):\n",
    "        user_string = user_string.replace(res[i],l[i])\n",
    "        \n",
    "    #print(\"After subs----\",user_string)   \n",
    "    _str = user_string.split(' ')\n",
    "    #print(len(_str))\n",
    "    for i in range(len(_str)-1):\n",
    "    # File path which consists of Abbreviations.\n",
    "      fileName = \"ruleBook.txt\"\n",
    "      # File Access mode [Read Mode]\n",
    "      accessMode = \"r\"\n",
    "      with open(fileName, accessMode) as myCSVfile:\n",
    "      # Reading file as CSV with delimiter as \"=\", so that abbreviation are stored in row[0] and phrases in row[1]\n",
    "        dataFromFile = csv.reader(myCSVfile, delimiter=\"=\")\n",
    "        #print(len(_str[i]))\n",
    "        for row in dataFromFile:\n",
    "\n",
    "            if row[0]==_str[i]:\n",
    "                #print(i)\n",
    "                if _str[i+1]=='dollar':\n",
    "                    _str[i]='$'+row[1]\n",
    "                    _str[i+1]='del flag'\n",
    "                    i=i+1\n",
    "                if _str[i+1]=='dollars':\n",
    "                    flag=_str[i]\n",
    "                    _str[i]='$'+row[1]\n",
    "                    _str[i+1]='del flag'\n",
    "                    i=i+1\n",
    "                if len(_str[i+1])==1:\n",
    "                    _str[i]=eval(row[1])\n",
    "                    _str[i+1]='del flag'\n",
    "                    #print(\"ii\",i)\n",
    "                    i+=1\n",
    "                \n",
    "    print(' '.join(_str[i] for i in range(len(_str)-1) if _str[i]!='del flag'))\n",
    "        "
   ]
  },
  {
   "cell_type": "code",
   "execution_count": 25,
   "metadata": {},
   "outputs": [
    {
     "name": "stdout",
     "output_type": "stream",
     "text": [
      "Please write the text\n",
      "i have two dollars please give it to one in need triple A . Praful Naik is a good C M .U S S  disintegrated into parts end\n",
      "['A ', 'C M ', 'U S S ']\n",
      "['A', 'CM', 'USS']\n",
      "i have $2 please give it to one in need triple A. Praful Naik is a good CM.USS disintegrated into parts\n",
      "Please write the text\n",
      "end\n",
      "Ending Thanks for Using\n"
     ]
    }
   ],
   "source": [
    "while True:\n",
    "    print(\"Please write the text\")\n",
    "    user = input()\n",
    "    if user == 'end':\n",
    "        print(\"Ending Thanks for Using\")\n",
    "        break\n",
    "    text_compress(user)"
   ]
  },
  {
   "cell_type": "code",
   "execution_count": 69,
   "metadata": {},
   "outputs": [
    {
     "name": "stdout",
     "output_type": "stream",
     "text": [
      "i have $2 please give it to one in need AAA\n"
     ]
    }
   ],
   "source": []
  },
  {
   "cell_type": "code",
   "execution_count": null,
   "metadata": {},
   "outputs": [],
   "source": []
  }
 ],
 "metadata": {
  "kernelspec": {
   "display_name": "Python 3",
   "language": "python",
   "name": "python3"
  },
  "language_info": {
   "codemirror_mode": {
    "name": "ipython",
    "version": 3
   },
   "file_extension": ".py",
   "mimetype": "text/x-python",
   "name": "python",
   "nbconvert_exporter": "python",
   "pygments_lexer": "ipython3",
   "version": "3.6.5"
  }
 },
 "nbformat": 4,
 "nbformat_minor": 2
}
